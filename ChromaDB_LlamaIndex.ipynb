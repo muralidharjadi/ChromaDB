{
 "cells": [
  {
   "cell_type": "code",
   "execution_count": 2,
   "id": "5ce92b58-3074-4838-aec9-ed8f68409d9e",
   "metadata": {},
   "outputs": [],
   "source": [
    "from llama_index.core import SimpleDirectoryReader\n",
    "\n",
    "documents = SimpleDirectoryReader(\"D:\\Data\\LLM\\llamaindex\\IndianEconomy\").load_data()"
   ]
  },
  {
   "cell_type": "code",
   "execution_count": 3,
   "id": "d00af8ba-ef97-4a23-9cd9-7b1d883b8dee",
   "metadata": {},
   "outputs": [
    {
     "data": {
      "text/plain": [
       "[Document(id_='5038beee-5d6f-460f-843b-435ed27ddff5', embedding=None, metadata={'page_label': '1', 'file_name': 'Indian_Economy_Overview.pdf', 'file_path': 'D:\\\\Data\\\\LLM\\\\llamaindex\\\\IndianEconomy\\\\Indian_Economy_Overview.pdf', 'file_type': 'application/pdf', 'file_size': 7918, 'creation_date': '2024-06-09', 'last_modified_date': '2024-06-09'}, excluded_embed_metadata_keys=['file_name', 'file_type', 'file_size', 'creation_date', 'last_modified_date', 'last_accessed_date'], excluded_llm_metadata_keys=['file_name', 'file_type', 'file_size', 'creation_date', 'last_modified_date', 'last_accessed_date'], relationships={}, text='Indian Economy: An Overview\\nIndian Economy: An Overview\\nPage 1', start_char_idx=None, end_char_idx=None, text_template='{metadata_str}\\n\\n{content}', metadata_template='{key}: {value}', metadata_seperator='\\n'),\n",
       " Document(id_='a89b9caf-1907-4f95-b0fa-b4709e4e1c53', embedding=None, metadata={'page_label': '2', 'file_name': 'Indian_Economy_Overview.pdf', 'file_path': 'D:\\\\Data\\\\LLM\\\\llamaindex\\\\IndianEconomy\\\\Indian_Economy_Overview.pdf', 'file_type': 'application/pdf', 'file_size': 7918, 'creation_date': '2024-06-09', 'last_modified_date': '2024-06-09'}, excluded_embed_metadata_keys=['file_name', 'file_type', 'file_size', 'creation_date', 'last_modified_date', 'last_accessed_date'], excluded_llm_metadata_keys=['file_name', 'file_type', 'file_size', 'creation_date', 'last_modified_date', 'last_accessed_date'], relationships={}, text=\"Indian Economy: An Overview\\nIntroduction\\nIndia, one of the world's fastest-growing economies, has shown remarkable resilience and growth\\nover the past few decades. With a population of over 1.4 billion people, it is the world's second-most\\npopulous country and boasts a diverse and complex economy that encompasses agriculture,\\nmanufacturing, and services sectors. This document provides an overview of the Indian economy,\\ntracing its historical background, economic reforms, key sectors, current scenario, challenges, and\\nfuture prospects.\\nPage 2\", start_char_idx=None, end_char_idx=None, text_template='{metadata_str}\\n\\n{content}', metadata_template='{key}: {value}', metadata_seperator='\\n'),\n",
       " Document(id_='040c3620-3b38-4329-85a4-cb11175328e1', embedding=None, metadata={'page_label': '3', 'file_name': 'Indian_Economy_Overview.pdf', 'file_path': 'D:\\\\Data\\\\LLM\\\\llamaindex\\\\IndianEconomy\\\\Indian_Economy_Overview.pdf', 'file_type': 'application/pdf', 'file_size': 7918, 'creation_date': '2024-06-09', 'last_modified_date': '2024-06-09'}, excluded_embed_metadata_keys=['file_name', 'file_type', 'file_size', 'creation_date', 'last_modified_date', 'last_accessed_date'], excluded_llm_metadata_keys=['file_name', 'file_type', 'file_size', 'creation_date', 'last_modified_date', 'last_accessed_date'], relationships={}, text=\"Indian Economy: An Overview\\nHistorical Background\\nThe economic history of India is a story of contrast and transformation. Pre-independence, India was\\none of the world's richest economies, heavily relying on agriculture and trade. However, colonial\\nexploitation and subsequent policies led to a significant decline in economic stature.\\nPost-independence in 1947, India adopted a mixed economy model, combining features of both\\ncapitalism and socialism. The government focused on self-reliance, implementing policies of import\\nsubstitution industrialization. The economy, however, was hampered by inefficiencies and slow\\ngrowth, often referred to as the 'Hindu rate of growth.'\\nPage 3\", start_char_idx=None, end_char_idx=None, text_template='{metadata_str}\\n\\n{content}', metadata_template='{key}: {value}', metadata_seperator='\\n'),\n",
       " Document(id_='1f2a8f14-4c5b-45df-b67d-667650f5471e', embedding=None, metadata={'page_label': '4', 'file_name': 'Indian_Economy_Overview.pdf', 'file_path': 'D:\\\\Data\\\\LLM\\\\llamaindex\\\\IndianEconomy\\\\Indian_Economy_Overview.pdf', 'file_type': 'application/pdf', 'file_size': 7918, 'creation_date': '2024-06-09', 'last_modified_date': '2024-06-09'}, excluded_embed_metadata_keys=['file_name', 'file_type', 'file_size', 'creation_date', 'last_modified_date', 'last_accessed_date'], excluded_llm_metadata_keys=['file_name', 'file_type', 'file_size', 'creation_date', 'last_modified_date', 'last_accessed_date'], relationships={}, text='Indian Economy: An Overview\\nEconomic Reforms\\nThe watershed moment for the Indian economy came in 1991 when a severe balance of payments\\ncrisis triggered comprehensive economic reforms. These reforms, known as the Liberalization,\\nPrivatization, and Globalization (LPG) reforms, were initiated under the leadership of then-Finance\\nMinister Dr. Manmohan Singh.\\nKey reforms included:\\n- Deregulation of industries\\n- Reduction in import tariffs and duties\\n- Liberalization of foreign direct investment (FDI) policies\\n- Privatization of state-owned enterprises\\n- Overhaul of the tax system\\nThese reforms spurred rapid economic growth, transformed India into a more market-oriented\\neconomy, and integrated it into the global economy.\\nPage 4', start_char_idx=None, end_char_idx=None, text_template='{metadata_str}\\n\\n{content}', metadata_template='{key}: {value}', metadata_seperator='\\n'),\n",
       " Document(id_='34d8ca9b-c46b-4b85-90cb-eb5b2e82a33b', embedding=None, metadata={'page_label': '5', 'file_name': 'Indian_Economy_Overview.pdf', 'file_path': 'D:\\\\Data\\\\LLM\\\\llamaindex\\\\IndianEconomy\\\\Indian_Economy_Overview.pdf', 'file_type': 'application/pdf', 'file_size': 7918, 'creation_date': '2024-06-09', 'last_modified_date': '2024-06-09'}, excluded_embed_metadata_keys=['file_name', 'file_type', 'file_size', 'creation_date', 'last_modified_date', 'last_accessed_date'], excluded_llm_metadata_keys=['file_name', 'file_type', 'file_size', 'creation_date', 'last_modified_date', 'last_accessed_date'], relationships={}, text=\"Indian Economy: An Overview\\nKey Sectors of the Indian Economy\\nAgriculture: Agriculture has historically been the backbone of the Indian economy. It employs around\\n42% of the workforce and contributes approximately 16% to the GDP. Key agricultural products\\ninclude rice, wheat, pulses, spices, and cotton. Despite its importance, the sector faces challenges\\nsuch as low productivity, fragmented land holdings, and dependence on monsoons.\\nIndustry: The industrial sector has witnessed significant growth post-reforms. It contributes about\\n25% to the GDP and includes sub-sectors like manufacturing, mining, and construction. The 'Make\\nin India' initiative launched in 2014 aims to boost manufacturing, attract FDI, and create jobs,\\npositioning India as a global manufacturing hub.\\nServices: The services sector is the largest contributor to the Indian economy, accounting for around\\n55% of the GDP. It encompasses a wide range of activities including IT and IT-enabled services,\\ntelecommunications, banking, retail, and tourism. India's IT industry, centered in cities like\\nBengaluru, Hyderabad, and Pune, is renowned globally and a significant source of export revenue.\\nPage 5\", start_char_idx=None, end_char_idx=None, text_template='{metadata_str}\\n\\n{content}', metadata_template='{key}: {value}', metadata_seperator='\\n'),\n",
       " Document(id_='d7d1cac2-2c3f-41ad-84d8-b6151e06b6d4', embedding=None, metadata={'page_label': '6', 'file_name': 'Indian_Economy_Overview.pdf', 'file_path': 'D:\\\\Data\\\\LLM\\\\llamaindex\\\\IndianEconomy\\\\Indian_Economy_Overview.pdf', 'file_type': 'application/pdf', 'file_size': 7918, 'creation_date': '2024-06-09', 'last_modified_date': '2024-06-09'}, excluded_embed_metadata_keys=['file_name', 'file_type', 'file_size', 'creation_date', 'last_modified_date', 'last_accessed_date'], excluded_llm_metadata_keys=['file_name', 'file_type', 'file_size', 'creation_date', 'last_modified_date', 'last_accessed_date'], relationships={}, text='Indian Economy: An Overview\\nCurrent Economic Scenario\\nAs of 2024, the Indian economy continues to grow, albeit at a slower pace than in previous decades.\\nThe COVID-19 pandemic had a profound impact, causing a contraction in GDP in 2020-21.\\nHowever, a robust recovery is underway, driven by government stimulus measures, digitalization,\\nand strong domestic consumption.\\nInflation remains a challenge, driven by supply chain disruptions and rising commodity prices. The\\ngovernment has focused on infrastructure development, digital economy, and social welfare\\nschemes to drive growth. Initiatives such as the Goods and Services Tax (GST) and Insolvency and\\nBankruptcy Code (IBC) have been instrumental in improving the business environment.\\nPage 6', start_char_idx=None, end_char_idx=None, text_template='{metadata_str}\\n\\n{content}', metadata_template='{key}: {value}', metadata_seperator='\\n'),\n",
       " Document(id_='8ce3688b-ff9d-459e-a2b4-c194e16a419e', embedding=None, metadata={'page_label': '7', 'file_name': 'Indian_Economy_Overview.pdf', 'file_path': 'D:\\\\Data\\\\LLM\\\\llamaindex\\\\IndianEconomy\\\\Indian_Economy_Overview.pdf', 'file_type': 'application/pdf', 'file_size': 7918, 'creation_date': '2024-06-09', 'last_modified_date': '2024-06-09'}, excluded_embed_metadata_keys=['file_name', 'file_type', 'file_size', 'creation_date', 'last_modified_date', 'last_accessed_date'], excluded_llm_metadata_keys=['file_name', 'file_type', 'file_size', 'creation_date', 'last_modified_date', 'last_accessed_date'], relationships={}, text='Indian Economy: An Overview\\nChallenges Facing the Indian Economy\\nDespite its growth trajectory, the Indian economy faces several challenges:\\n- Unemployment: Job creation has not kept pace with the growing labor force, leading to high\\nunemployment rates, particularly among the youth.\\n- Income Inequality: Economic growth has not been evenly distributed, resulting in significant income\\ndisparities.\\n- Agricultural Distress: The agricultural sector continues to struggle with issues like low productivity,\\ninadequate infrastructure, and farmer indebtedness.\\n- Infrastructure Deficit: Inadequate infrastructure in sectors like transportation, power, and logistics\\nhampers economic efficiency and growth.\\n- Regulatory Hurdles: Despite reforms, bureaucratic red tape and regulatory hurdles still pose\\nchallenges to ease of doing business.\\nPage 7', start_char_idx=None, end_char_idx=None, text_template='{metadata_str}\\n\\n{content}', metadata_template='{key}: {value}', metadata_seperator='\\n'),\n",
       " Document(id_='2869f49a-af4c-4c96-9c42-23fb77a39998', embedding=None, metadata={'page_label': '8', 'file_name': 'Indian_Economy_Overview.pdf', 'file_path': 'D:\\\\Data\\\\LLM\\\\llamaindex\\\\IndianEconomy\\\\Indian_Economy_Overview.pdf', 'file_type': 'application/pdf', 'file_size': 7918, 'creation_date': '2024-06-09', 'last_modified_date': '2024-06-09'}, excluded_embed_metadata_keys=['file_name', 'file_type', 'file_size', 'creation_date', 'last_modified_date', 'last_accessed_date'], excluded_llm_metadata_keys=['file_name', 'file_type', 'file_size', 'creation_date', 'last_modified_date', 'last_accessed_date'], relationships={}, text='Indian Economy: An Overview\\nFuture Prospects\\nThe future prospects of the Indian economy remain positive, driven by several factors:\\n- Demographic Dividend: A young and growing population provides a vast labor force and consumer\\nmarket.\\n- Technological Advancements: Rapid digitalization and technological adoption are transforming\\nvarious sectors, enhancing productivity and innovation.\\n- Policy Reforms: Continued focus on economic reforms, ease of doing business, and infrastructure\\ndevelopment will support sustainable growth.\\n- Global Integration: Increasing integration with the global economy through trade agreements and\\nFDI will open new avenues for growth.\\nHowever, to fully realize its potential, India must address structural issues, invest in human capital,\\nand ensure inclusive growth.\\nPage 8', start_char_idx=None, end_char_idx=None, text_template='{metadata_str}\\n\\n{content}', metadata_template='{key}: {value}', metadata_seperator='\\n'),\n",
       " Document(id_='76fca021-5d30-416d-8f2f-2bbe412c50be', embedding=None, metadata={'page_label': '9', 'file_name': 'Indian_Economy_Overview.pdf', 'file_path': 'D:\\\\Data\\\\LLM\\\\llamaindex\\\\IndianEconomy\\\\Indian_Economy_Overview.pdf', 'file_type': 'application/pdf', 'file_size': 7918, 'creation_date': '2024-06-09', 'last_modified_date': '2024-06-09'}, excluded_embed_metadata_keys=['file_name', 'file_type', 'file_size', 'creation_date', 'last_modified_date', 'last_accessed_date'], excluded_llm_metadata_keys=['file_name', 'file_type', 'file_size', 'creation_date', 'last_modified_date', 'last_accessed_date'], relationships={}, text=\"Indian Economy: An Overview\\nConclusion\\nThe Indian economy has come a long way since independence, evolving into a dynamic and diverse\\neconomic powerhouse. While significant challenges remain, the country's resilience, young\\npopulation, and ongoing reforms provide a strong foundation for future growth. By addressing its\\nstructural issues and leveraging its strengths, India is poised to become a major player in the global\\neconomy.\\nPage 9\", start_char_idx=None, end_char_idx=None, text_template='{metadata_str}\\n\\n{content}', metadata_template='{key}: {value}', metadata_seperator='\\n')]"
      ]
     },
     "execution_count": 3,
     "metadata": {},
     "output_type": "execute_result"
    }
   ],
   "source": [
    "documents"
   ]
  },
  {
   "cell_type": "markdown",
   "id": "0ce10376-3e92-4ff0-8321-2b3b21959ddd",
   "metadata": {},
   "source": [
    "## chromadb"
   ]
  },
  {
   "cell_type": "code",
   "execution_count": 52,
   "id": "d932854d-7e63-4271-b16f-d7237d930b7c",
   "metadata": {},
   "outputs": [],
   "source": [
    "#pip install chromadb\n",
    "#!pip install llama-index-vector-stores-chroma"
   ]
  },
  {
   "cell_type": "code",
   "execution_count": 10,
   "id": "78bead2c-a2c1-4f22-b6c4-fffee366f98c",
   "metadata": {},
   "outputs": [
    {
     "name": "stdin",
     "output_type": "stream",
     "text": [
      " ········\n"
     ]
    }
   ],
   "source": [
    "from langchain_openai import OpenAI\n",
    "import getpass\n",
    "import os\n",
    "\n",
    "os.environ[\"OPENAI_API_KEY\"] = getpass.getpass()"
   ]
  },
  {
   "cell_type": "code",
   "execution_count": 11,
   "id": "b54ff43a-45f8-4597-89d1-f686f37ea00a",
   "metadata": {},
   "outputs": [],
   "source": [
    "from langchain_openai import OpenAI\n",
    "llm = OpenAI(temperature=0.6)"
   ]
  },
  {
   "cell_type": "code",
   "execution_count": null,
   "id": "846d8c96-2e29-44fa-b206-5cce6e8dc953",
   "metadata": {},
   "outputs": [],
   "source": []
  },
  {
   "cell_type": "code",
   "execution_count": 12,
   "id": "34f44f7f-b87c-473d-9602-cf7ab86180cc",
   "metadata": {},
   "outputs": [],
   "source": [
    "import chromadb\n",
    "from llama_index.core import VectorStoreIndex, SimpleDirectoryReader\n",
    "from llama_index.vector_stores.chroma import ChromaVectorStore\n",
    "from llama_index.core import StorageContext"
   ]
  },
  {
   "cell_type": "code",
   "execution_count": 13,
   "id": "61694ad0-a709-4ef4-aed0-9d349fb165aa",
   "metadata": {},
   "outputs": [],
   "source": [
    "db = chromadb.PersistentClient(path=\"D:\\Data\\LLM\\chroma_db\")"
   ]
  },
  {
   "cell_type": "code",
   "execution_count": 14,
   "id": "fb332c54-3582-4590-86ab-baaf54fac6a8",
   "metadata": {},
   "outputs": [],
   "source": [
    "chroma_collection = db.get_or_create_collection(\"quickstart\")"
   ]
  },
  {
   "cell_type": "code",
   "execution_count": 15,
   "id": "742814db-c18e-441f-b098-de91c47a3579",
   "metadata": {},
   "outputs": [],
   "source": [
    "vector_store = ChromaVectorStore(chroma_collection=chroma_collection)\n",
    "storage_context = StorageContext.from_defaults(vector_store=vector_store)"
   ]
  },
  {
   "cell_type": "code",
   "execution_count": 16,
   "id": "7e5e8974-a826-4706-a877-e65897817b4e",
   "metadata": {},
   "outputs": [],
   "source": [
    "index_chromadb = VectorStoreIndex.from_documents(documents, storage_context=storage_context)"
   ]
  },
  {
   "cell_type": "code",
   "execution_count": 17,
   "id": "1ec4b3ba-f450-4229-8bc0-62d9b096db0c",
   "metadata": {},
   "outputs": [
    {
     "name": "stdout",
     "output_type": "stream",
     "text": [
      "The key sectors of the Indian economy are agriculture, industry, and services.\n"
     ]
    }
   ],
   "source": [
    "query_engine6 = index_chromadb.as_query_engine()\n",
    "response = query_engine6.query(\"What are the Key Sectors of the Indian Economy?\")\n",
    "print(response)"
   ]
  },
  {
   "cell_type": "markdown",
   "id": "ab0205bb-1b4e-4837-a6d0-31dce309c3d6",
   "metadata": {},
   "source": [
    "## Querying"
   ]
  },
  {
   "cell_type": "code",
   "execution_count": 18,
   "id": "109a3b1e-71e6-4081-a871-de1742ca2b37",
   "metadata": {},
   "outputs": [],
   "source": [
    "from llama_index.core import VectorStoreIndex, get_response_synthesizer\n",
    "from llama_index.core.retrievers import VectorIndexRetriever\n",
    "from llama_index.core.query_engine import RetrieverQueryEngine\n",
    "from llama_index.core.postprocessor import SimilarityPostprocessor"
   ]
  },
  {
   "cell_type": "code",
   "execution_count": 19,
   "id": "18712d86-dfec-4f62-839a-07488f067823",
   "metadata": {},
   "outputs": [],
   "source": [
    "index_query = VectorStoreIndex.from_documents(documents)"
   ]
  },
  {
   "cell_type": "code",
   "execution_count": 20,
   "id": "1b9844a5-0f46-413f-bccf-9ca00a5e845c",
   "metadata": {},
   "outputs": [],
   "source": [
    "retriever = VectorIndexRetriever(\n",
    "    index=index_query,\n",
    "    similarity_top_k=3,\n",
    ")"
   ]
  },
  {
   "cell_type": "code",
   "execution_count": 21,
   "id": "4ad3c806-c81a-46d7-a349-59bc27138e96",
   "metadata": {},
   "outputs": [],
   "source": [
    "response_synthesizer = get_response_synthesizer()"
   ]
  },
  {
   "cell_type": "code",
   "execution_count": 22,
   "id": "a2b3f83f-1135-4bbc-8692-4a71da8ce444",
   "metadata": {},
   "outputs": [],
   "source": [
    "query_engine_res = RetrieverQueryEngine(\n",
    "    retriever=retriever,\n",
    "    response_synthesizer=response_synthesizer,\n",
    "    node_postprocessors=[SimilarityPostprocessor(similarity_cutoff=0.8)],\n",
    ")"
   ]
  },
  {
   "cell_type": "code",
   "execution_count": 24,
   "id": "af6e50b8-d691-4703-9533-d24ec21ce65f",
   "metadata": {},
   "outputs": [
    {
     "name": "stdout",
     "output_type": "stream",
     "text": [
      "The future prospects of the Indian economy are positive due to factors such as a young and growing population providing a vast labor force and consumer market, rapid digitalization and technological adoption enhancing productivity and innovation, continued focus on economic reforms and infrastructure development, and increasing integration with the global economy through trade agreements and FDI. To fully realize its potential, India must address structural issues, invest in human capital, and ensure inclusive growth.\n"
     ]
    }
   ],
   "source": [
    "response = query_engine_res.query(\"Future Prospects of Indian Economy?\")\n",
    "print(response)"
   ]
  },
  {
   "cell_type": "code",
   "execution_count": null,
   "id": "ea887e53-d927-4547-b793-f6e600fbf3b2",
   "metadata": {},
   "outputs": [],
   "source": []
  }
 ],
 "metadata": {
  "kernelspec": {
   "display_name": "Python 3 (ipykernel)",
   "language": "python",
   "name": "python3"
  },
  "language_info": {
   "codemirror_mode": {
    "name": "ipython",
    "version": 3
   },
   "file_extension": ".py",
   "mimetype": "text/x-python",
   "name": "python",
   "nbconvert_exporter": "python",
   "pygments_lexer": "ipython3",
   "version": "3.11.7"
  }
 },
 "nbformat": 4,
 "nbformat_minor": 5
}
