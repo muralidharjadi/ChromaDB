{
  "nbformat": 4,
  "nbformat_minor": 0,
  "metadata": {
    "colab": {
      "provenance": [],
      "gpuType": "T4"
    },
    "kernelspec": {
      "name": "python3",
      "display_name": "Python 3"
    },
    "language_info": {
      "name": "python"
    },
    "accelerator": "GPU"
  },
  "cells": [
    {
      "cell_type": "code",
      "execution_count": null,
      "metadata": {
        "id": "wRdnN3932aif"
      },
      "outputs": [],
      "source": [
        "!pip install chromadb"
      ]
    },
    {
      "cell_type": "code",
      "source": [
        "import chromadb\n",
        "chroma_client = chromadb.HttpClient(host='65.2.38.98', port=8000)"
      ],
      "metadata": {
        "id": "pd6LjG88CAqk"
      },
      "execution_count": 4,
      "outputs": []
    },
    {
      "cell_type": "code",
      "source": [
        "collection = chroma_client.get_or_create_collection(name=\"test\")"
      ],
      "metadata": {
        "id": "mV4En0FDDCYX"
      },
      "execution_count": 5,
      "outputs": []
    },
    {
      "cell_type": "code",
      "source": [
        "collection = chroma_client.get_collection(name=\"test\")"
      ],
      "metadata": {
        "id": "Axts04FRDGHx"
      },
      "execution_count": 6,
      "outputs": []
    },
    {
      "cell_type": "code",
      "source": [
        "collection.add(\n",
        "    documents=[\"This is a document about cat\", \"This is a document about car\"],\n",
        "    metadatas=[{\"category\": \"animal\"}, {\"category\": \"vehicle\"}],\n",
        "    ids=[\"id1\", \"id2\"]\n",
        ")"
      ],
      "metadata": {
        "colab": {
          "base_uri": "https://localhost:8080/"
        },
        "id": "Sm8-WKLNDJhR",
        "outputId": "c907f8c4-fe61-4208-b1b7-b467cc80a45f"
      },
      "execution_count": 7,
      "outputs": [
        {
          "output_type": "stream",
          "name": "stderr",
          "text": [
            "/root/.cache/chroma/onnx_models/all-MiniLM-L6-v2/onnx.tar.gz: 100%|██████████| 79.3M/79.3M [00:20<00:00, 4.08MiB/s]\n"
          ]
        }
      ]
    },
    {
      "cell_type": "code",
      "source": [
        "collection.query(\n",
        "    query_texts=[\"bike\"],\n",
        "    n_results=1\n",
        ")\n",
        ""
      ],
      "metadata": {
        "colab": {
          "base_uri": "https://localhost:8080/"
        },
        "id": "_-4MDLQUDRRy",
        "outputId": "541cd66c-07ee-4f6d-f3b7-2c44af5d2898"
      },
      "execution_count": 8,
      "outputs": [
        {
          "output_type": "execute_result",
          "data": {
            "text/plain": [
              "{'ids': [['id2']],\n",
              " 'distances': [[1.4951326056823981]],\n",
              " 'embeddings': None,\n",
              " 'metadatas': [[{'category': 'vehicle'}]],\n",
              " 'documents': [['This is a document about car']],\n",
              " 'uris': None,\n",
              " 'data': None}"
            ]
          },
          "metadata": {},
          "execution_count": 8
        }
      ]
    },
    {
      "cell_type": "code",
      "source": [
        "collection.query(\n",
        "    query_texts=[\"cat\"],\n",
        "    n_results=1\n",
        ")"
      ],
      "metadata": {
        "colab": {
          "base_uri": "https://localhost:8080/"
        },
        "id": "0GhNR2A3EfZC",
        "outputId": "12bae933-736f-4cfa-c0cd-fe3ec680a8ba"
      },
      "execution_count": 9,
      "outputs": [
        {
          "output_type": "execute_result",
          "data": {
            "text/plain": [
              "{'ids': [['id1']],\n",
              " 'distances': [[0.6701224105853889]],\n",
              " 'embeddings': None,\n",
              " 'metadatas': [[{'category': 'animal'}]],\n",
              " 'documents': [['This is a document about cat']],\n",
              " 'uris': None,\n",
              " 'data': None}"
            ]
          },
          "metadata": {},
          "execution_count": 9
        }
      ]
    }
  ]
}