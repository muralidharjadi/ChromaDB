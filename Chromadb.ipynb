{
 "cells": [
  {
   "cell_type": "code",
   "execution_count": 1,
   "id": "ed93d85b-0f9c-4e90-96d7-37529d47e1bc",
   "metadata": {},
   "outputs": [],
   "source": [
    "# !pip install chromadb -q\n",
    "# !pip install sentence-transformers -q     "
   ]
  },
  {
   "cell_type": "code",
   "execution_count": 2,
   "id": "95161e61-5975-425a-bd7b-e76646dc04ba",
   "metadata": {},
   "outputs": [],
   "source": [
    "import chromadb\n",
    "\n",
    "client = chromadb.Client()\n",
    "\n",
    "collection = client.create_collection(\"test\")"
   ]
  },
  {
   "cell_type": "code",
   "execution_count": null,
   "id": "adb052f4-926e-460b-b475-9c31bba5d35f",
   "metadata": {},
   "outputs": [],
   "source": [
    "# Adding Sample Document"
   ]
  },
  {
   "cell_type": "code",
   "execution_count": 5,
   "id": "736ddfab-a63c-4662-8264-4877cfe3f349",
   "metadata": {},
   "outputs": [
    {
     "name": "stderr",
     "output_type": "stream",
     "text": [
      "C:\\Users\\intel\\.cache\\chroma\\onnx_models\\all-MiniLM-L6-v2\\onnx.tar.gz: 100%|██████████| 79.3M/79.3M [00:36<00:00, 2.30MiB/s]\n"
     ]
    }
   ],
   "source": [
    "collection.add(\n",
    "    documents=[\"This is a document about cat\", \"This is a document about car\"],\n",
    "    metadatas=[{\"category\": \"animal\"}, {\"category\": \"vehicle\"}],\n",
    "    ids=[\"id1\", \"id2\"]\n",
    ")\n"
   ]
  },
  {
   "cell_type": "code",
   "execution_count": 6,
   "id": "76fe5ebf-9dcd-4d58-91c7-9d23bcdbb67f",
   "metadata": {},
   "outputs": [
    {
     "data": {
      "text/plain": [
       "{'ids': [['id2']],\n",
       " 'distances': [[0.8069301843643188]],\n",
       " 'metadatas': [[{'category': 'vehicle'}]],\n",
       " 'embeddings': None,\n",
       " 'documents': [['This is a document about car']],\n",
       " 'uris': None,\n",
       " 'data': None}"
      ]
     },
     "execution_count": 6,
     "metadata": {},
     "output_type": "execute_result"
    }
   ],
   "source": [
    "results = collection.query(\n",
    "    query_texts=[\"vehicle\"],\n",
    "    n_results=1\n",
    ")\n",
    "results"
   ]
  },
  {
   "cell_type": "code",
   "execution_count": 13,
   "id": "a82d98f0-982d-4d59-a55d-12d35e440a8e",
   "metadata": {},
   "outputs": [],
   "source": [
    "import os\n",
    "\n",
    "def read_files_from_folder(folder_path):\n",
    "    file_data = []\n",
    "\n",
    "    for file_name in os.listdir(folder_path):\n",
    "        if file_name.endswith(\".txt\"):\n",
    "            with open(os.path.join(folder_path, file_name), 'r') as file:\n",
    "                content = file.read()\n",
    "                file_data.append({\"file_name\": file_name, \"content\": content})\n",
    "\n",
    "    return file_data"
   ]
  },
  {
   "cell_type": "code",
   "execution_count": 14,
   "id": "97215663-c782-4843-9579-7d19b1aba732",
   "metadata": {},
   "outputs": [],
   "source": [
    "folder_path = \"D:\\CromaDB\\data\"  # your folder path\n",
    "file_data = read_files_from_folder(folder_path)"
   ]
  },
  {
   "cell_type": "code",
   "execution_count": 16,
   "id": "b151015b-9898-486b-b760-85c7da4719c9",
   "metadata": {},
   "outputs": [
    {
     "data": {
      "text/plain": [
       "[{'file_name': 'Different Types of Pet Animals.txt',\n",
       "  'content': 'Pet animals come in all shapes and sizes, each suited to different lifestyles and home environments. Dogs and cats are the most common, known for their companionship and unique personalities. Small mammals like hamsters, guinea pigs, and rabbits are often chosen for their low maintenance needs. Birds offer beauty and song, and reptiles like turtles and lizards can make intriguing pets. Even fish, with their calming presence, can be wonderful pets.'},\n",
       " {'file_name': 'Health Care for Pets.txt',\n",
       "  'content': 'Routine health care is crucial for pets to live long, happy lives. Regular vet check-ups help catch potential issues early and keep vaccinations up to date. Dental care is also essential to prevent diseases in pets, especially in dogs and cats. Regular grooming, parasite control, and weight management are other important aspects of pet health care.'},\n",
       " {'file_name': 'Nutrition Needs of Pet Animals.txt',\n",
       "  'content': 'Proper nutrition is vital for the health and wellbeing of pets. Dogs and cats require a balanced diet that includes proteins, carbohydrates, and fats. Some may even have specific dietary needs based on their breed or age. Birds typically thrive on a diet of seeds, fruits, and vegetables, while reptiles have diverse diets ranging from live insects to fresh produce. Fish diets depend greatly on the species, with some needing live food and others subsisting on flakes or pellets.'},\n",
       " {'file_name': 'The Emotional Bond Between Humans and Pets.txt',\n",
       "  'content': 'Pets offer more than just companionship; they provide emotional support, reduce stress, and can even help their owners lead healthier lives. The bond between pets and their owners is strong, and many people consider their pets as part of the family. This bond can be especially important in times of personal or societal stress, providing comfort and consistency.'},\n",
       " {'file_name': 'Training and Behaviour of Pets.txt',\n",
       "  'content': 'Training is essential for a harmonious life with pets, particularly for dogs. It helps pets understand their boundaries and makes cohabitation easier for both pets and owners. Training should be based on positive reinforcement. Understanding pet behavior is also important, as changes in behavior can often be a sign of underlying health issues.'}]"
      ]
     },
     "execution_count": 16,
     "metadata": {},
     "output_type": "execute_result"
    }
   ],
   "source": [
    "file_data"
   ]
  },
  {
   "cell_type": "code",
   "execution_count": 17,
   "id": "f2730cb3-1d2e-4021-81bd-dd1ef313658b",
   "metadata": {},
   "outputs": [],
   "source": [
    "documents = []\n",
    "metadatas = []\n",
    "ids = []\n",
    "for index,data in enumerate(file_data):\n",
    "  documents.append(data['content'])\n",
    "  metadatas.append({'source':data['file_name']})\n",
    "  ids.append(str(index+1))\n",
    "     "
   ]
  },
  {
   "cell_type": "code",
   "execution_count": 18,
   "id": "70ca1fcf-4e54-4ea2-b266-33ba96e123cd",
   "metadata": {},
   "outputs": [
    {
     "data": {
      "text/plain": [
       "[{'source': 'Different Types of Pet Animals.txt'},\n",
       " {'source': 'Health Care for Pets.txt'},\n",
       " {'source': 'Nutrition Needs of Pet Animals.txt'},\n",
       " {'source': 'The Emotional Bond Between Humans and Pets.txt'},\n",
       " {'source': 'Training and Behaviour of Pets.txt'}]"
      ]
     },
     "execution_count": 18,
     "metadata": {},
     "output_type": "execute_result"
    }
   ],
   "source": [
    "metadatas"
   ]
  },
  {
   "cell_type": "code",
   "execution_count": 19,
   "id": "56e0bb85-9a5c-4ec5-8a75-aed70c78ffea",
   "metadata": {},
   "outputs": [
    {
     "data": {
      "text/plain": [
       "['1', '2', '3', '4', '5']"
      ]
     },
     "execution_count": 19,
     "metadata": {},
     "output_type": "execute_result"
    }
   ],
   "source": [
    "ids"
   ]
  },
  {
   "cell_type": "code",
   "execution_count": 22,
   "id": "cb7658a0-fc94-455a-abbd-45114c6ecfd8",
   "metadata": {},
   "outputs": [],
   "source": [
    "pet_collection = client.create_collection(\"pet_collection\")\n",
    "pet_collection.add(\n",
    "    documents=documents,\n",
    "    metadatas=metadatas,\n",
    "    ids=ids\n",
    ")"
   ]
  },
  {
   "cell_type": "code",
   "execution_count": 23,
   "id": "cd02bdd4-5bea-4509-b2e5-9c78c8b500ca",
   "metadata": {},
   "outputs": [
    {
     "data": {
      "text/plain": [
       "{'ids': [['1']],\n",
       " 'distances': [[0.7325009107589722]],\n",
       " 'metadatas': [[{'source': 'Different Types of Pet Animals.txt'}]],\n",
       " 'embeddings': None,\n",
       " 'documents': [['Pet animals come in all shapes and sizes, each suited to different lifestyles and home environments. Dogs and cats are the most common, known for their companionship and unique personalities. Small mammals like hamsters, guinea pigs, and rabbits are often chosen for their low maintenance needs. Birds offer beauty and song, and reptiles like turtles and lizards can make intriguing pets. Even fish, with their calming presence, can be wonderful pets.']],\n",
       " 'uris': None,\n",
       " 'data': None}"
      ]
     },
     "execution_count": 23,
     "metadata": {},
     "output_type": "execute_result"
    }
   ],
   "source": [
    "results = pet_collection.query(\n",
    "    query_texts=[\"What are the different kinds of pets people commonly own?\"],\n",
    "    n_results=1\n",
    ")\n",
    "results"
   ]
  },
  {
   "cell_type": "code",
   "execution_count": 24,
   "id": "8a28050d-b880-41ec-a633-c1be46c94a48",
   "metadata": {},
   "outputs": [
    {
     "data": {
      "text/plain": [
       "{'ids': [['1']],\n",
       " 'distances': [[0.837824821472168]],\n",
       " 'metadatas': [[{'source': 'Different Types of Pet Animals.txt'}]],\n",
       " 'embeddings': None,\n",
       " 'documents': [['Pet animals come in all shapes and sizes, each suited to different lifestyles and home environments. Dogs and cats are the most common, known for their companionship and unique personalities. Small mammals like hamsters, guinea pigs, and rabbits are often chosen for their low maintenance needs. Birds offer beauty and song, and reptiles like turtles and lizards can make intriguing pets. Even fish, with their calming presence, can be wonderful pets.']],\n",
       " 'uris': None,\n",
       " 'data': None}"
      ]
     },
     "execution_count": 24,
     "metadata": {},
     "output_type": "execute_result"
    }
   ],
   "source": [
    "results = pet_collection.query(\n",
    "    query_texts=[\"What are the emotional benefits of owning a pet?\"],\n",
    "    n_results=1,\n",
    "    where_document={\"$contains\":\"reptiles\"}\n",
    ")\n",
    "results"
   ]
  },
  {
   "cell_type": "code",
   "execution_count": 27,
   "id": "0cfd1cfb-98d3-4352-b15b-91bdf81b6a71",
   "metadata": {},
   "outputs": [],
   "source": [
    "from sentence_transformers import SentenceTransformer\n",
    "model = SentenceTransformer('paraphrase-MiniLM-L3-v2')"
   ]
  },
  {
   "cell_type": "code",
   "execution_count": 28,
   "id": "da999e08-bca8-4f6a-8e39-f7678385e554",
   "metadata": {},
   "outputs": [],
   "source": [
    "documents = []\n",
    "embeddings = []\n",
    "metadatas = []\n",
    "ids = []\n",
    "for index,data in enumerate(file_data):\n",
    "  documents.append(data['content'])\n",
    "  embeding = model.encode(data['content']).tolist()\n",
    "  embeddings.append(embeding)\n",
    "  metadatas.append({'source':data['file_name']})\n",
    "  ids.append(str(index+1))"
   ]
  },
  {
   "cell_type": "code",
   "execution_count": 29,
   "id": "da35d343-c2a1-4551-938b-92c7ac7f6539",
   "metadata": {},
   "outputs": [],
   "source": [
    "pet_collection_emb = client.create_collection(\"pet_collection_emb\")\n",
    "pet_collection_emb.add(\n",
    "    documents=documents,\n",
    "    embeddings=embeddings,\n",
    "    metadatas=metadatas,\n",
    "    ids=ids\n",
    ")"
   ]
  },
  {
   "cell_type": "code",
   "execution_count": 30,
   "id": "033a63cd-ed31-46cd-979a-8400dcd4914d",
   "metadata": {},
   "outputs": [
    {
     "data": {
      "text/plain": [
       "{'ids': [['1']],\n",
       " 'distances': [[12.040447235107422]],\n",
       " 'metadatas': [[{'source': 'Different Types of Pet Animals.txt'}]],\n",
       " 'embeddings': None,\n",
       " 'documents': [['Pet animals come in all shapes and sizes, each suited to different lifestyles and home environments. Dogs and cats are the most common, known for their companionship and unique personalities. Small mammals like hamsters, guinea pigs, and rabbits are often chosen for their low maintenance needs. Birds offer beauty and song, and reptiles like turtles and lizards can make intriguing pets. Even fish, with their calming presence, can be wonderful pets.']],\n",
       " 'uris': None,\n",
       " 'data': None}"
      ]
     },
     "execution_count": 30,
     "metadata": {},
     "output_type": "execute_result"
    }
   ],
   "source": [
    "query = \"What are the different kinds of pets people commonly own?\"\n",
    "input_em = model.encode(query).tolist()\n",
    "\n",
    "results = pet_collection_emb.query(\n",
    "    query_embeddings=[input_em],\n",
    "    n_results=1\n",
    ")\n",
    "results"
   ]
  },
  {
   "cell_type": "code",
   "execution_count": 31,
   "id": "426aeabf-aef3-4182-b93a-9f6405f02f23",
   "metadata": {},
   "outputs": [
    {
     "data": {
      "text/plain": [
       "{'ids': [['3']],\n",
       " 'distances': [[17.14393424987793]],\n",
       " 'metadatas': [[{'source': 'Nutrition Needs of Pet Animals.txt'}]],\n",
       " 'embeddings': None,\n",
       " 'documents': [['Proper nutrition is vital for the health and wellbeing of pets. Dogs and cats require a balanced diet that includes proteins, carbohydrates, and fats. Some may even have specific dietary needs based on their breed or age. Birds typically thrive on a diet of seeds, fruits, and vegetables, while reptiles have diverse diets ranging from live insects to fresh produce. Fish diets depend greatly on the species, with some needing live food and others subsisting on flakes or pellets.']],\n",
       " 'uris': None,\n",
       " 'data': None}"
      ]
     },
     "execution_count": 31,
     "metadata": {},
     "output_type": "execute_result"
    }
   ],
   "source": [
    "query = \"foods that are recommended for  dogs?\"\n",
    "input_em = model.encode(query).tolist()\n",
    "\n",
    "results = pet_collection_emb.query(\n",
    "    query_embeddings=[input_em],\n",
    "    n_results=1\n",
    ")\n",
    "results"
   ]
  },
  {
   "cell_type": "code",
   "execution_count": null,
   "id": "4f3a213b-6883-401e-8542-2ca1fc23e9dd",
   "metadata": {},
   "outputs": [],
   "source": []
  }
 ],
 "metadata": {
  "kernelspec": {
   "display_name": "Python 3 (ipykernel)",
   "language": "python",
   "name": "python3"
  },
  "language_info": {
   "codemirror_mode": {
    "name": "ipython",
    "version": 3
   },
   "file_extension": ".py",
   "mimetype": "text/x-python",
   "name": "python",
   "nbconvert_exporter": "python",
   "pygments_lexer": "ipython3",
   "version": "3.11.7"
  }
 },
 "nbformat": 4,
 "nbformat_minor": 5
}
