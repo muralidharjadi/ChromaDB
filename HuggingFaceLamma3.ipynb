{
 "cells": [
  {
   "cell_type": "code",
   "execution_count": 5,
   "id": "df1d0df3-ec92-4923-b9b1-bd9eff8b160c",
   "metadata": {},
   "outputs": [],
   "source": [
    "#pip install langchain-chroma\n",
    "#!pip install pypdf"
   ]
  },
  {
   "cell_type": "code",
   "execution_count": 6,
   "id": "7efef169-33bb-4cab-a954-2c4c3579b77d",
   "metadata": {},
   "outputs": [],
   "source": [
    "# import\n",
    "import warnings\n",
    "warnings.filterwarnings(\"ignore\")\n",
    "from langchain_chroma import Chroma\n",
    "from langchain_community.document_loaders import PyPDFLoader\n",
    "from langchain_text_splitters import RecursiveCharacterTextSplitter"
   ]
  },
  {
   "cell_type": "code",
   "execution_count": 7,
   "id": "9d9d666f-fb67-4e64-8e84-73e0b1d62db8",
   "metadata": {},
   "outputs": [],
   "source": [
    "# load the document and split it into chunks\n",
    "loader = PyPDFLoader(\"D:\\\\Data\\\\LLM\\\\IndianEconomy\\\\Indian_Economy_Overview.pdf\")\n",
    "documents = loader.load()"
   ]
  },
  {
   "cell_type": "code",
   "execution_count": 8,
   "id": "55b1895e-d3b5-43bc-a1cb-76c4b0b63e03",
   "metadata": {},
   "outputs": [
    {
     "data": {
      "text/plain": [
       "[Document(page_content='Indian Economy: An Overview\\nIndian Economy: An Overview\\nPage 1', metadata={'source': 'D:\\\\Data\\\\LLM\\\\IndianEconomy\\\\Indian_Economy_Overview.pdf', 'page': 0}),\n",
       " Document(page_content=\"Indian Economy: An Overview\\nIntroduction\\nIndia, one of the world's fastest-growing economies, has shown remarkable resilience and growth\\nover the past few decades. With a population of over 1.4 billion people, it is the world's second-most\\npopulous country and boasts a diverse and complex economy that encompasses agriculture,\\nmanufacturing, and services sectors. This document provides an overview of the Indian economy,\\ntracing its historical background, economic reforms, key sectors, current scenario, challenges, and\\nfuture prospects.\\nPage 2\", metadata={'source': 'D:\\\\Data\\\\LLM\\\\IndianEconomy\\\\Indian_Economy_Overview.pdf', 'page': 1}),\n",
       " Document(page_content=\"Indian Economy: An Overview\\nHistorical Background\\nThe economic history of India is a story of contrast and transformation. Pre-independence, India was\\none of the world's richest economies, heavily relying on agriculture and trade. However, colonial\\nexploitation and subsequent policies led to a significant decline in economic stature.\\nPost-independence in 1947, India adopted a mixed economy model, combining features of both\\ncapitalism and socialism. The government focused on self-reliance, implementing policies of import\\nsubstitution industrialization. The economy, however, was hampered by inefficiencies and slow\\ngrowth, often referred to as the 'Hindu rate of growth.'\\nPage 3\", metadata={'source': 'D:\\\\Data\\\\LLM\\\\IndianEconomy\\\\Indian_Economy_Overview.pdf', 'page': 2}),\n",
       " Document(page_content='Indian Economy: An Overview\\nEconomic Reforms\\nThe watershed moment for the Indian economy came in 1991 when a severe balance of payments\\ncrisis triggered comprehensive economic reforms. These reforms, known as the Liberalization,\\nPrivatization, and Globalization (LPG) reforms, were initiated under the leadership of then-Finance\\nMinister Dr. Manmohan Singh.\\nKey reforms included:\\n- Deregulation of industries\\n- Reduction in import tariffs and duties\\n- Liberalization of foreign direct investment (FDI) policies\\n- Privatization of state-owned enterprises\\n- Overhaul of the tax system\\nThese reforms spurred rapid economic growth, transformed India into a more market-oriented\\neconomy, and integrated it into the global economy.\\nPage 4', metadata={'source': 'D:\\\\Data\\\\LLM\\\\IndianEconomy\\\\Indian_Economy_Overview.pdf', 'page': 3}),\n",
       " Document(page_content=\"Indian Economy: An Overview\\nKey Sectors of the Indian Economy\\nAgriculture: Agriculture has historically been the backbone of the Indian economy. It employs around\\n42% of the workforce and contributes approximately 16% to the GDP. Key agricultural products\\ninclude rice, wheat, pulses, spices, and cotton. Despite its importance, the sector faces challenges\\nsuch as low productivity, fragmented land holdings, and dependence on monsoons.\\nIndustry: The industrial sector has witnessed significant growth post-reforms. It contributes about\\n25% to the GDP and includes sub-sectors like manufacturing, mining, and construction. The 'Make\\nin India' initiative launched in 2014 aims to boost manufacturing, attract FDI, and create jobs,\\npositioning India as a global manufacturing hub.\\nServices: The services sector is the largest contributor to the Indian economy, accounting for around\\n55% of the GDP. It encompasses a wide range of activities including IT and IT-enabled services,\\ntelecommunications, banking, retail, and tourism. India's IT industry, centered in cities like\\nBengaluru, Hyderabad, and Pune, is renowned globally and a significant source of export revenue.\\nPage 5\", metadata={'source': 'D:\\\\Data\\\\LLM\\\\IndianEconomy\\\\Indian_Economy_Overview.pdf', 'page': 4}),\n",
       " Document(page_content='Indian Economy: An Overview\\nCurrent Economic Scenario\\nAs of 2024, the Indian economy continues to grow, albeit at a slower pace than in previous decades.\\nThe COVID-19 pandemic had a profound impact, causing a contraction in GDP in 2020-21.\\nHowever, a robust recovery is underway, driven by government stimulus measures, digitalization,\\nand strong domestic consumption.\\nInflation remains a challenge, driven by supply chain disruptions and rising commodity prices. The\\ngovernment has focused on infrastructure development, digital economy, and social welfare\\nschemes to drive growth. Initiatives such as the Goods and Services Tax (GST) and Insolvency and\\nBankruptcy Code (IBC) have been instrumental in improving the business environment.\\nPage 6', metadata={'source': 'D:\\\\Data\\\\LLM\\\\IndianEconomy\\\\Indian_Economy_Overview.pdf', 'page': 5}),\n",
       " Document(page_content='Indian Economy: An Overview\\nChallenges Facing the Indian Economy\\nDespite its growth trajectory, the Indian economy faces several challenges:\\n- Unemployment: Job creation has not kept pace with the growing labor force, leading to high\\nunemployment rates, particularly among the youth.\\n- Income Inequality: Economic growth has not been evenly distributed, resulting in significant income\\ndisparities.\\n- Agricultural Distress: The agricultural sector continues to struggle with issues like low productivity,\\ninadequate infrastructure, and farmer indebtedness.\\n- Infrastructure Deficit: Inadequate infrastructure in sectors like transportation, power, and logistics\\nhampers economic efficiency and growth.\\n- Regulatory Hurdles: Despite reforms, bureaucratic red tape and regulatory hurdles still pose\\nchallenges to ease of doing business.\\nPage 7', metadata={'source': 'D:\\\\Data\\\\LLM\\\\IndianEconomy\\\\Indian_Economy_Overview.pdf', 'page': 6}),\n",
       " Document(page_content='Indian Economy: An Overview\\nFuture Prospects\\nThe future prospects of the Indian economy remain positive, driven by several factors:\\n- Demographic Dividend: A young and growing population provides a vast labor force and consumer\\nmarket.\\n- Technological Advancements: Rapid digitalization and technological adoption are transforming\\nvarious sectors, enhancing productivity and innovation.\\n- Policy Reforms: Continued focus on economic reforms, ease of doing business, and infrastructure\\ndevelopment will support sustainable growth.\\n- Global Integration: Increasing integration with the global economy through trade agreements and\\nFDI will open new avenues for growth.\\nHowever, to fully realize its potential, India must address structural issues, invest in human capital,\\nand ensure inclusive growth.\\nPage 8', metadata={'source': 'D:\\\\Data\\\\LLM\\\\IndianEconomy\\\\Indian_Economy_Overview.pdf', 'page': 7}),\n",
       " Document(page_content=\"Indian Economy: An Overview\\nConclusion\\nThe Indian economy has come a long way since independence, evolving into a dynamic and diverse\\neconomic powerhouse. While significant challenges remain, the country's resilience, young\\npopulation, and ongoing reforms provide a strong foundation for future growth. By addressing its\\nstructural issues and leveraging its strengths, India is poised to become a major player in the global\\neconomy.\\nPage 9\", metadata={'source': 'D:\\\\Data\\\\LLM\\\\IndianEconomy\\\\Indian_Economy_Overview.pdf', 'page': 8})]"
      ]
     },
     "execution_count": 8,
     "metadata": {},
     "output_type": "execute_result"
    }
   ],
   "source": [
    "documents"
   ]
  },
  {
   "cell_type": "code",
   "execution_count": 56,
   "id": "3212e932-694f-4886-8ca2-c5d1f6c239b9",
   "metadata": {},
   "outputs": [
    {
     "data": {
      "text/plain": [
       "[Document(page_content='Indian Economy: An Overview\\nIndian Economy: An Overview\\nPage 1', metadata={'source': 'D:\\\\Data\\\\LLM\\\\IndianEconomy\\\\Indian_Economy_Overview.pdf', 'page': 0}),\n",
       " Document(page_content=\"Indian Economy: An Overview\\nIntroduction\\nIndia, one of the world's fastest-growing economies, has shown remarkable resilience and growth\\nover the past few decades. With a population of over 1.4 billion people, it is the world's second-most\\npopulous country and boasts a diverse and complex economy that encompasses agriculture,\\nmanufacturing, and services sectors. This document provides an overview of the Indian economy,\", metadata={'source': 'D:\\\\Data\\\\LLM\\\\IndianEconomy\\\\Indian_Economy_Overview.pdf', 'page': 1}),\n",
       " Document(page_content='tracing its historical background, economic reforms, key sectors, current scenario, challenges, and\\nfuture prospects.\\nPage 2', metadata={'source': 'D:\\\\Data\\\\LLM\\\\IndianEconomy\\\\Indian_Economy_Overview.pdf', 'page': 1}),\n",
       " Document(page_content=\"Indian Economy: An Overview\\nHistorical Background\\nThe economic history of India is a story of contrast and transformation. Pre-independence, India was\\none of the world's richest economies, heavily relying on agriculture and trade. However, colonial\\nexploitation and subsequent policies led to a significant decline in economic stature.\\nPost-independence in 1947, India adopted a mixed economy model, combining features of both\", metadata={'source': 'D:\\\\Data\\\\LLM\\\\IndianEconomy\\\\Indian_Economy_Overview.pdf', 'page': 2}),\n",
       " Document(page_content=\"capitalism and socialism. The government focused on self-reliance, implementing policies of import\\nsubstitution industrialization. The economy, however, was hampered by inefficiencies and slow\\ngrowth, often referred to as the 'Hindu rate of growth.'\\nPage 3\", metadata={'source': 'D:\\\\Data\\\\LLM\\\\IndianEconomy\\\\Indian_Economy_Overview.pdf', 'page': 2}),\n",
       " Document(page_content='Indian Economy: An Overview\\nEconomic Reforms\\nThe watershed moment for the Indian economy came in 1991 when a severe balance of payments\\ncrisis triggered comprehensive economic reforms. These reforms, known as the Liberalization,\\nPrivatization, and Globalization (LPG) reforms, were initiated under the leadership of then-Finance\\nMinister Dr. Manmohan Singh.\\nKey reforms included:\\n- Deregulation of industries\\n- Reduction in import tariffs and duties', metadata={'source': 'D:\\\\Data\\\\LLM\\\\IndianEconomy\\\\Indian_Economy_Overview.pdf', 'page': 3}),\n",
       " Document(page_content='- Liberalization of foreign direct investment (FDI) policies\\n- Privatization of state-owned enterprises\\n- Overhaul of the tax system\\nThese reforms spurred rapid economic growth, transformed India into a more market-oriented\\neconomy, and integrated it into the global economy.\\nPage 4', metadata={'source': 'D:\\\\Data\\\\LLM\\\\IndianEconomy\\\\Indian_Economy_Overview.pdf', 'page': 3}),\n",
       " Document(page_content='Indian Economy: An Overview\\nKey Sectors of the Indian Economy\\nAgriculture: Agriculture has historically been the backbone of the Indian economy. It employs around\\n42% of the workforce and contributes approximately 16% to the GDP. Key agricultural products\\ninclude rice, wheat, pulses, spices, and cotton. Despite its importance, the sector faces challenges\\nsuch as low productivity, fragmented land holdings, and dependence on monsoons.', metadata={'source': 'D:\\\\Data\\\\LLM\\\\IndianEconomy\\\\Indian_Economy_Overview.pdf', 'page': 4}),\n",
       " Document(page_content=\"Industry: The industrial sector has witnessed significant growth post-reforms. It contributes about\\n25% to the GDP and includes sub-sectors like manufacturing, mining, and construction. The 'Make\\nin India' initiative launched in 2014 aims to boost manufacturing, attract FDI, and create jobs,\\npositioning India as a global manufacturing hub.\\nServices: The services sector is the largest contributor to the Indian economy, accounting for around\", metadata={'source': 'D:\\\\Data\\\\LLM\\\\IndianEconomy\\\\Indian_Economy_Overview.pdf', 'page': 4}),\n",
       " Document(page_content=\"55% of the GDP. It encompasses a wide range of activities including IT and IT-enabled services,\\ntelecommunications, banking, retail, and tourism. India's IT industry, centered in cities like\\nBengaluru, Hyderabad, and Pune, is renowned globally and a significant source of export revenue.\\nPage 5\", metadata={'source': 'D:\\\\Data\\\\LLM\\\\IndianEconomy\\\\Indian_Economy_Overview.pdf', 'page': 4}),\n",
       " Document(page_content='Indian Economy: An Overview\\nCurrent Economic Scenario\\nAs of 2024, the Indian economy continues to grow, albeit at a slower pace than in previous decades.\\nThe COVID-19 pandemic had a profound impact, causing a contraction in GDP in 2020-21.\\nHowever, a robust recovery is underway, driven by government stimulus measures, digitalization,\\nand strong domestic consumption.\\nInflation remains a challenge, driven by supply chain disruptions and rising commodity prices. The', metadata={'source': 'D:\\\\Data\\\\LLM\\\\IndianEconomy\\\\Indian_Economy_Overview.pdf', 'page': 5}),\n",
       " Document(page_content='government has focused on infrastructure development, digital economy, and social welfare\\nschemes to drive growth. Initiatives such as the Goods and Services Tax (GST) and Insolvency and\\nBankruptcy Code (IBC) have been instrumental in improving the business environment.\\nPage 6', metadata={'source': 'D:\\\\Data\\\\LLM\\\\IndianEconomy\\\\Indian_Economy_Overview.pdf', 'page': 5}),\n",
       " Document(page_content='Indian Economy: An Overview\\nChallenges Facing the Indian Economy\\nDespite its growth trajectory, the Indian economy faces several challenges:\\n- Unemployment: Job creation has not kept pace with the growing labor force, leading to high\\nunemployment rates, particularly among the youth.\\n- Income Inequality: Economic growth has not been evenly distributed, resulting in significant income\\ndisparities.', metadata={'source': 'D:\\\\Data\\\\LLM\\\\IndianEconomy\\\\Indian_Economy_Overview.pdf', 'page': 6}),\n",
       " Document(page_content='- Agricultural Distress: The agricultural sector continues to struggle with issues like low productivity,\\ninadequate infrastructure, and farmer indebtedness.\\n- Infrastructure Deficit: Inadequate infrastructure in sectors like transportation, power, and logistics\\nhampers economic efficiency and growth.\\n- Regulatory Hurdles: Despite reforms, bureaucratic red tape and regulatory hurdles still pose\\nchallenges to ease of doing business.\\nPage 7', metadata={'source': 'D:\\\\Data\\\\LLM\\\\IndianEconomy\\\\Indian_Economy_Overview.pdf', 'page': 6}),\n",
       " Document(page_content='Indian Economy: An Overview\\nFuture Prospects\\nThe future prospects of the Indian economy remain positive, driven by several factors:\\n- Demographic Dividend: A young and growing population provides a vast labor force and consumer\\nmarket.\\n- Technological Advancements: Rapid digitalization and technological adoption are transforming\\nvarious sectors, enhancing productivity and innovation.\\n- Policy Reforms: Continued focus on economic reforms, ease of doing business, and infrastructure', metadata={'source': 'D:\\\\Data\\\\LLM\\\\IndianEconomy\\\\Indian_Economy_Overview.pdf', 'page': 7}),\n",
       " Document(page_content='development will support sustainable growth.\\n- Global Integration: Increasing integration with the global economy through trade agreements and\\nFDI will open new avenues for growth.\\nHowever, to fully realize its potential, India must address structural issues, invest in human capital,\\nand ensure inclusive growth.\\nPage 8', metadata={'source': 'D:\\\\Data\\\\LLM\\\\IndianEconomy\\\\Indian_Economy_Overview.pdf', 'page': 7}),\n",
       " Document(page_content=\"Indian Economy: An Overview\\nConclusion\\nThe Indian economy has come a long way since independence, evolving into a dynamic and diverse\\neconomic powerhouse. While significant challenges remain, the country's resilience, young\\npopulation, and ongoing reforms provide a strong foundation for future growth. By addressing its\\nstructural issues and leveraging its strengths, India is poised to become a major player in the global\\neconomy.\\nPage 9\", metadata={'source': 'D:\\\\Data\\\\LLM\\\\IndianEconomy\\\\Indian_Economy_Overview.pdf', 'page': 8})]"
      ]
     },
     "execution_count": 56,
     "metadata": {},
     "output_type": "execute_result"
    }
   ],
   "source": [
    "# split it into chunks\n",
    "text_splitter = RecursiveCharacterTextSplitter(chunk_size=500, chunk_overlap=10)\n",
    "docs = text_splitter.split_documents(documents)\n",
    "docs"
   ]
  },
  {
   "cell_type": "code",
   "execution_count": 57,
   "id": "b1113fae-14e6-42ec-8154-b8c116a9ce8b",
   "metadata": {},
   "outputs": [
    {
     "data": {
      "text/plain": [
       "17"
      ]
     },
     "execution_count": 57,
     "metadata": {},
     "output_type": "execute_result"
    }
   ],
   "source": [
    "len(docs)"
   ]
  },
  {
   "cell_type": "code",
   "execution_count": 58,
   "id": "e531400f-f057-405d-8360-ebb0d78d9a98",
   "metadata": {},
   "outputs": [],
   "source": [
    "from langchain.embeddings import SentenceTransformerEmbeddings\n",
    "embeddings = SentenceTransformerEmbeddings(model_name=\"all-MiniLM-L6-v2\")"
   ]
  },
  {
   "cell_type": "code",
   "execution_count": 39,
   "id": "09226e48-e02b-42e4-a0fa-11b54bbb4425",
   "metadata": {},
   "outputs": [],
   "source": [
    "text = \"This is a test document.\""
   ]
  },
  {
   "cell_type": "code",
   "execution_count": 59,
   "id": "ca34a215-1baf-4341-9b11-44954bdb9788",
   "metadata": {
    "scrolled": true
   },
   "outputs": [
    {
     "data": {
      "text/plain": [
       "384"
      ]
     },
     "execution_count": 59,
     "metadata": {},
     "output_type": "execute_result"
    }
   ],
   "source": [
    "query_result = embeddings.embed_query(text)\n",
    "len(query_result)"
   ]
  },
  {
   "cell_type": "code",
   "execution_count": 19,
   "id": "411d884e-f7ea-424d-9494-a067d5ed2595",
   "metadata": {},
   "outputs": [],
   "source": [
    "#pip install langchain-chroma"
   ]
  },
  {
   "cell_type": "code",
   "execution_count": 20,
   "id": "9313be09-43aa-49c1-a1db-a94bc5c7cf3b",
   "metadata": {},
   "outputs": [],
   "source": [
    "from langchain_chroma import Chroma"
   ]
  },
  {
   "cell_type": "code",
   "execution_count": 60,
   "id": "aecfdcd5-92de-4370-9d99-7c62c2fd2230",
   "metadata": {},
   "outputs": [],
   "source": [
    "db = Chroma.from_documents(docs, embeddings)"
   ]
  },
  {
   "cell_type": "code",
   "execution_count": 24,
   "id": "39c68f6f-a86b-445c-a775-b08dcb500070",
   "metadata": {},
   "outputs": [],
   "source": [
    "from langchain.vectorstores import chroma\n",
    "db1 = Chroma.from_documents(docs, embeddings)\n"
   ]
  },
  {
   "cell_type": "code",
   "execution_count": 62,
   "id": "429382c1-e9ac-428a-b71f-2c2c2667d077",
   "metadata": {},
   "outputs": [
    {
     "data": {
      "text/plain": [
       "Document(page_content='Indian Economy: An Overview\\nIndian Economy: An Overview\\nPage 1', metadata={'page': 0, 'source': 'D:\\\\Data\\\\LLM\\\\IndianEconomy\\\\Indian_Economy_Overview.pdf'})"
      ]
     },
     "execution_count": 62,
     "metadata": {},
     "output_type": "execute_result"
    }
   ],
   "source": [
    "query = \"Future Prospects of Indian Economy?\"\n",
    "matching_docs = db.similarity_search(query)\n",
    "matching_docs[0]"
   ]
  },
  {
   "cell_type": "code",
   "execution_count": 30,
   "id": "6fce45c8-53f8-49d8-99df-f04010ca8fce",
   "metadata": {},
   "outputs": [],
   "source": [
    "persist_directory = \"D:\\\\CromaDB\"\n",
    "vectordb = Chroma.from_documents(\n",
    "    documents=docs, embedding=embeddings, persist_directory=persist_directory\n",
    ")\n",
    "\n",
    "# # save to disk\n",
    "# db2 = Chroma.from_documents(docs, embedding_function, persist_directory=\"./chroma_db\")\n",
    "# docs = db2.similarity_search(query)"
   ]
  },
  {
   "cell_type": "code",
   "execution_count": 63,
   "id": "c714837e-70d2-4c54-b597-ba3cadd3615c",
   "metadata": {},
   "outputs": [],
   "source": [
    "from langchain_community.llms import Ollama\n",
    "llm = Ollama(model=\"llama3\")"
   ]
  },
  {
   "cell_type": "code",
   "execution_count": 64,
   "id": "84c9d0ab-886b-43f5-bddd-3745fd94a91d",
   "metadata": {},
   "outputs": [
    {
     "name": "stdout",
     "output_type": "stream",
     "text": [
      "\n",
      "\n",
      "\u001b[1m> Entering new StuffDocumentsChain chain...\u001b[0m\n",
      "\n",
      "\n",
      "\u001b[1m> Entering new LLMChain chain...\u001b[0m\n",
      "Prompt after formatting:\n",
      "\u001b[32;1m\u001b[1;3mUse the following pieces of context to answer the question at the end. If you don't know the answer, just say that you don't know, don't try to make up an answer.\n",
      "\n",
      "Indian Economy: An Overview\n",
      "Indian Economy: An Overview\n",
      "Page 1\n",
      "\n",
      "Indian Economy: An Overview\n",
      "Indian Economy: An Overview\n",
      "Page 1\n",
      "\n",
      "Indian Economy: An Overview\n",
      "Indian Economy: An Overview\n",
      "Page 1\n",
      "\n",
      "Indian Economy: An Overview\n",
      "Indian Economy: An Overview\n",
      "Page 1\n",
      "\n",
      "Question: Future Prospects of Indian Economy?\n",
      "Helpful Answer:\u001b[0m\n",
      "\n",
      "\u001b[1m> Finished chain.\u001b[0m\n",
      "\n",
      "\u001b[1m> Finished chain.\u001b[0m\n"
     ]
    },
    {
     "data": {
      "text/plain": [
       "\"I don't know.\""
      ]
     },
     "execution_count": 64,
     "metadata": {},
     "output_type": "execute_result"
    }
   ],
   "source": [
    "from langchain.chains.question_answering import load_qa_chain\n",
    "chain = load_qa_chain(llm, chain_type=\"stuff\",verbose=True)\n",
    "\n",
    "#query = \"Key Sectors of the Indian Economy?\"\n",
    "matching_docs = db.similarity_search(query)\n",
    "answer =  chain.run(input_documents=matching_docs, question=query)\n",
    "answer\n"
   ]
  },
  {
   "cell_type": "code",
   "execution_count": 65,
   "id": "d771aec1-034a-4851-a412-a0a5599f187c",
   "metadata": {},
   "outputs": [
    {
     "name": "stdout",
     "output_type": "stream",
     "text": [
      "Indian Economy: An Overview\n",
      "Indian Economy: An Overview\n",
      "Page 1\n"
     ]
    }
   ],
   "source": [
    "query = \"Key Sectors of the Indian Economy?\"\n",
    "db3 = Chroma(persist_directory=\"D:\\\\CromaDB\", embedding_function=embeddings)\n",
    "docs = db3.similarity_search(query)\n",
    "print(docs[0].page_content)"
   ]
  },
  {
   "cell_type": "code",
   "execution_count": 66,
   "id": "059bfc67-af36-4613-85c5-746d0cfc91ff",
   "metadata": {},
   "outputs": [
    {
     "name": "stdout",
     "output_type": "stream",
     "text": [
      "\n",
      "\n",
      "\u001b[1m> Entering new StuffDocumentsChain chain...\u001b[0m\n",
      "\n",
      "\n",
      "\u001b[1m> Entering new LLMChain chain...\u001b[0m\n",
      "Prompt after formatting:\n",
      "\u001b[32;1m\u001b[1;3mUse the following pieces of context to answer the question at the end. If you don't know the answer, just say that you don't know, don't try to make up an answer.\n",
      "\n",
      "Indian Economy: An Overview\n",
      "Indian Economy: An Overview\n",
      "Page 1\n",
      "\n",
      "Indian Economy: An Overview\n",
      "Indian Economy: An Overview\n",
      "Page 1\n",
      "\n",
      "Indian Economy: An Overview\n",
      "Indian Economy: An Overview\n",
      "Page 1\n",
      "\n",
      "Indian Economy: An Overview\n",
      "Introduction\n",
      "India, one of the world's fastest-growing economies, has shown remarkable resilience and growth\n",
      "over the past few decades. With a population of over 1.4 billion people, it is the world's second-most\n",
      "populous country and boasts a diverse and complex economy that encompasses agriculture,\n",
      "manufacturing, and services sectors. This document provides an overview of the Indian economy,\n",
      "tracing its historical background, economic reforms, key sectors, current scenario, challenges, and\n",
      "future prospects.\n",
      "Page 2\n",
      "\n",
      "Question: Key Sectors of the Indian Economy?\n",
      "Helpful Answer:\u001b[0m\n",
      "\n",
      "\u001b[1m> Finished chain.\u001b[0m\n",
      "\n",
      "\u001b[1m> Finished chain.\u001b[0m\n"
     ]
    },
    {
     "data": {
      "text/plain": [
       "'According to the provided context, the helpful answer is:\\n\\nAgriculture, manufacturing, and services sectors.\\n\\nThese three sectors are mentioned as the areas that the Indian economy encompasses.'"
      ]
     },
     "execution_count": 66,
     "metadata": {},
     "output_type": "execute_result"
    }
   ],
   "source": [
    "from langchain.chains.question_answering import load_qa_chain\n",
    "chain = load_qa_chain(llm, chain_type=\"stuff\",verbose=True)\n",
    "\n",
    "query = \"Key Sectors of the Indian Economy?\"\n",
    "matching_docs = db3.similarity_search(query)\n",
    "answer =  chain.run(input_documents=matching_docs, question=query)\n",
    "answer"
   ]
  },
  {
   "cell_type": "code",
   "execution_count": null,
   "id": "a0ae9042-2fbc-4435-bd20-ee354f3d39c3",
   "metadata": {},
   "outputs": [],
   "source": []
  }
 ],
 "metadata": {
  "kernelspec": {
   "display_name": "Python 3 (ipykernel)",
   "language": "python",
   "name": "python3"
  },
  "language_info": {
   "codemirror_mode": {
    "name": "ipython",
    "version": 3
   },
   "file_extension": ".py",
   "mimetype": "text/x-python",
   "name": "python",
   "nbconvert_exporter": "python",
   "pygments_lexer": "ipython3",
   "version": "3.11.7"
  }
 },
 "nbformat": 4,
 "nbformat_minor": 5
}
